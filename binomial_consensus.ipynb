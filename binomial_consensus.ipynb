{
 "cells": [
  {
   "cell_type": "code",
   "execution_count": 1,
   "id": "diverse-christmas",
   "metadata": {},
   "outputs": [],
   "source": [
    "from scipy.stats import binom\n",
    "import numpy as np"
   ]
  },
  {
   "cell_type": "code",
   "execution_count": 2,
   "id": "miniature-cooperation",
   "metadata": {},
   "outputs": [],
   "source": [
    "def binom_prob_equal_or_more_than(at_least, total, success_rate):\n",
    "    r_values = range(at_least, total + 1)\n",
    "    dist = [binom.pmf(r, n, success_rate) for r in r_values]\n",
    "    sum_dist = sum(dist)\n",
    "    return sum_dist"
   ]
  },
  {
   "cell_type": "code",
   "execution_count": 3,
   "id": "elegant-forge",
   "metadata": {},
   "outputs": [],
   "source": [
    "from IPython.display import HTML, display\n",
    "import tabulate\n",
    "\n",
    "def print_table(data):\n",
    "    display(HTML(tabulate.tabulate(data, tablefmt='html')))"
   ]
  },
  {
   "cell_type": "code",
   "execution_count": 4,
   "id": "spiritual-sponsorship",
   "metadata": {},
   "outputs": [],
   "source": [
    "def superblocks_into_time(n):\n",
    "    s = n * 45 * 10\n",
    "    return f\"{int(s)} seconds\""
   ]
  },
  {
   "cell_type": "code",
   "execution_count": 12,
   "id": "chemical-patient",
   "metadata": {},
   "outputs": [
    {
     "data": {
      "text/html": [
       "<table>\n",
       "<tbody>\n",
       "<tr><td>number of nodes in committee</td><td>failure rate</td><td>probability of consensus</td><td>expected number of superblocks until consensus</td><td>expected time until consensus             </td></tr>\n",
       "<tr><td>50                          </td><td>0.00        </td><td>1.000000                </td><td>1.0000                                        </td><td>450 seconds                               </td></tr>\n",
       "<tr><td>50                          </td><td>0.05        </td><td>1.000000                </td><td>1.0000                                        </td><td>450 seconds                               </td></tr>\n",
       "<tr><td>50                          </td><td>0.10        </td><td>0.999996                </td><td>1.0000                                        </td><td>450 seconds                               </td></tr>\n",
       "<tr><td>50                          </td><td>0.15        </td><td>0.999339                </td><td>1.0007                                        </td><td>450 seconds                               </td></tr>\n",
       "<tr><td>50                          </td><td>0.20        </td><td>0.985558                </td><td>1.0147                                        </td><td>456 seconds                               </td></tr>\n",
       "<tr><td>50                          </td><td>0.25        </td><td>0.901693                </td><td>1.1090                                        </td><td>499 seconds                               </td></tr>\n",
       "<tr><td>50                          </td><td>0.30        </td><td>0.683879                </td><td>1.4622                                        </td><td>658 seconds                               </td></tr>\n",
       "<tr><td>50                          </td><td>0.35        </td><td>0.388855                </td><td>2.5716                                        </td><td>1157 seconds                              </td></tr>\n",
       "<tr><td>50                          </td><td>0.40        </td><td>0.156091                </td><td>6.4065                                        </td><td>2882 seconds                              </td></tr>\n",
       "<tr><td>50                          </td><td>0.45        </td><td>0.042653                </td><td>23.4449                                       </td><td>10550 seconds                             </td></tr>\n",
       "<tr><td>50                          </td><td>0.50        </td><td>0.007673                </td><td>130.3214                                      </td><td>58644 seconds                             </td></tr>\n",
       "<tr><td>50                          </td><td>0.55        </td><td>0.000869                </td><td>1150.2131                                     </td><td>517595 seconds                            </td></tr>\n",
       "<tr><td>50                          </td><td>0.60        </td><td>0.000058                </td><td>17215.6217                                    </td><td>7747029 seconds                           </td></tr>\n",
       "<tr><td>50                          </td><td>0.65        </td><td>0.000002                </td><td>482859.6777                                   </td><td>217286854 seconds                         </td></tr>\n",
       "<tr><td>50                          </td><td>0.70        </td><td>0.000000                </td><td>29611556.3668                                 </td><td>13325200365 seconds                       </td></tr>\n",
       "<tr><td>50                          </td><td>0.75        </td><td>0.000000                </td><td>5083435363.9122                               </td><td>2287545913760 seconds                     </td></tr>\n",
       "<tr><td>50                          </td><td>0.80        </td><td>0.000000                </td><td>3725320242417.6694                            </td><td>1676394109087951 seconds                  </td></tr>\n",
       "<tr><td>50                          </td><td>0.85        </td><td>0.000000                </td><td>25921731604556644.0000                        </td><td>11664779222050490368 seconds              </td></tr>\n",
       "<tr><td>100                         </td><td>0.00        </td><td>1.000000                </td><td>1.0000                                        </td><td>450 seconds                               </td></tr>\n",
       "<tr><td>100                         </td><td>0.05        </td><td>1.000000                </td><td>1.0000                                        </td><td>450 seconds                               </td></tr>\n",
       "<tr><td>100                         </td><td>0.10        </td><td>1.000000                </td><td>1.0000                                        </td><td>450 seconds                               </td></tr>\n",
       "<tr><td>100                         </td><td>0.15        </td><td>0.999998                </td><td>1.0000                                        </td><td>450 seconds                               </td></tr>\n",
       "<tr><td>100                         </td><td>0.20        </td><td>0.999263                </td><td>1.0007                                        </td><td>450 seconds                               </td></tr>\n",
       "<tr><td>100                         </td><td>0.25        </td><td>0.972405                </td><td>1.0284                                        </td><td>462 seconds                               </td></tr>\n",
       "<tr><td>100                         </td><td>0.30        </td><td>0.779258                </td><td>1.2833                                        </td><td>577 seconds                               </td></tr>\n",
       "<tr><td>100                         </td><td>0.35        </td><td>0.380291                </td><td>2.6296                                        </td><td>1183 seconds                              </td></tr>\n",
       "<tr><td>100                         </td><td>0.40        </td><td>0.091254                </td><td>10.9585                                       </td><td>4931 seconds                              </td></tr>\n",
       "<tr><td>100                         </td><td>0.45        </td><td>0.009760                </td><td>102.4592                                      </td><td>46106 seconds                             </td></tr>\n",
       "<tr><td>100                         </td><td>0.50        </td><td>0.000437                </td><td>2289.0633                                     </td><td>1030078 seconds                           </td></tr>\n",
       "<tr><td>100                         </td><td>0.55        </td><td>0.000008                </td><td>132188.2190                                   </td><td>59484698 seconds                          </td></tr>\n",
       "<tr><td>100                         </td><td>0.60        </td><td>0.000000                </td><td>22282424.6725                                 </td><td>10027091102 seconds                       </td></tr>\n",
       "<tr><td>100                         </td><td>0.65        </td><td>0.000000                </td><td>13264226374.6629                              </td><td>5968901868598 seconds                     </td></tr>\n",
       "<tr><td>100                         </td><td>0.70        </td><td>0.000000                </td><td>37608580795239.1406                           </td><td>16923861357857612 seconds                 </td></tr>\n",
       "<tr><td>100                         </td><td>0.75        </td><td>0.000000                </td><td>823557517403830784.0000                       </td><td>370600882831723855872 seconds             </td></tr>\n",
       "<tr><td>100                         </td><td>0.80        </td><td>0.000000                </td><td>319037362794216233631744.0000                 </td><td>143566813257397313858437120 seconds       </td></tr>\n",
       "<tr><td>100                         </td><td>0.85        </td><td>0.000000                </td><td>10543293661985637679950200832000.0000         </td><td>4744482147893536852394798944878592 seconds</td></tr>\n",
       "</tbody>\n",
       "</table>"
      ],
      "text/plain": [
       "<IPython.core.display.HTML object>"
      ]
     },
     "metadata": {},
     "output_type": "display_data"
    }
   ],
   "source": [
    "data = []\n",
    "\n",
    "for n in [50, 100]:\n",
    "    for failure_rate in range(0, 90, 5):\n",
    "        two_thirds_of_n = (n * 2 // 3) + 1\n",
    "        p = binom_prob_equal_or_more_than(two_thirds_of_n, n, 1.0 - failure_rate/100)\n",
    "        num_superblocks = 1 / p\n",
    "        row = [n, f\"{failure_rate/100:.2f}\", f\"{p:.6f}\", f\"{num_superblocks:.4f}\", superblocks_into_time(num_superblocks)]\n",
    "        data.append(row)\n",
    "        \n",
    "import csv, sys\n",
    "spamwriter = csv.writer(sys.stdout)\n",
    "print_table([[\"number of nodes in committee\", \"failure rate\", \"probability of consensus\", \"expected number of superblocks until consensus\", \"expected time until consensus\"], *data])"
   ]
  },
  {
   "cell_type": "code",
   "execution_count": null,
   "id": "coordinated-stomach",
   "metadata": {},
   "outputs": [],
   "source": []
  },
  {
   "cell_type": "code",
   "execution_count": null,
   "id": "traditional-family",
   "metadata": {},
   "outputs": [],
   "source": []
  }
 ],
 "metadata": {
  "kernelspec": {
   "display_name": "Python 3",
   "language": "python",
   "name": "python3"
  },
  "language_info": {
   "codemirror_mode": {
    "name": "ipython",
    "version": 3
   },
   "file_extension": ".py",
   "mimetype": "text/x-python",
   "name": "python",
   "nbconvert_exporter": "python",
   "pygments_lexer": "ipython3",
   "version": "3.8.6"
  }
 },
 "nbformat": 4,
 "nbformat_minor": 5
}
